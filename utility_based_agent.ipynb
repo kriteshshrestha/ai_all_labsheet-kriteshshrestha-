{
  "nbformat": 4,
  "nbformat_minor": 0,
  "metadata": {
    "colab": {
      "provenance": [],
      "authorship_tag": "ABX9TyOs6NQ7GPBtriWvJG9k3nje",
      "include_colab_link": true
    },
    "kernelspec": {
      "name": "python3",
      "display_name": "Python 3"
    },
    "language_info": {
      "name": "python"
    }
  },
  "cells": [
    {
      "cell_type": "markdown",
      "metadata": {
        "id": "view-in-github",
        "colab_type": "text"
      },
      "source": [
        "<a href=\"https://colab.research.google.com/github/kriteshshrestha/ai_lab_vaccume_knn-kriteshshrestha-/blob/main/utility_based_agent.ipynb\" target=\"_parent\"><img src=\"https://colab.research.google.com/assets/colab-badge.svg\" alt=\"Open In Colab\"/></a>"
      ]
    },
    {
      "cell_type": "code",
      "execution_count": 1,
      "metadata": {
        "colab": {
          "base_uri": "https://localhost:8080/",
          "height": 697
        },
        "id": "xnO4SjxJfn2U",
        "outputId": "720a7c64-40e0-4bba-e8b6-dd5ff84e3d81"
      },
      "outputs": [
        {
          "output_type": "display_data",
          "data": {
            "text/plain": [
              "<Figure size 600x600 with 1 Axes>"
            ],
            "image/png": "[encoded data removed]"
          },
          "metadata": {}
        },
        {
          "output_type": "error",
          "ename": "KeyboardInterrupt",
          "evalue": "",
          "traceback": [
            "\u001b[0;31m---------------------------------------------------------------------------\u001b[0m",
            "\u001b[0;31mKeyboardInterrupt\u001b[0m                         Traceback (most recent call last)",
            "\u001b[0;32m/tmp/ipython-input-1-2286463760.py\u001b[0m in \u001b[0;36m<cell line: 0>\u001b[0;34m()\u001b[0m\n\u001b[1;32m     83\u001b[0m     \u001b[0mclear_output\u001b[0m\u001b[0;34m(\u001b[0m\u001b[0mwait\u001b[0m\u001b[0;34m=\u001b[0m\u001b[0;32mTrue\u001b[0m\u001b[0;34m)\u001b[0m\u001b[0;34m\u001b[0m\u001b[0;34m\u001b[0m\u001b[0m\n\u001b[1;32m     84\u001b[0m     \u001b[0mdraw_grid\u001b[0m\u001b[0;34m(\u001b[0m\u001b[0;34m)\u001b[0m\u001b[0;34m\u001b[0m\u001b[0;34m\u001b[0m\u001b[0m\n\u001b[0;32m---> 85\u001b[0;31m     \u001b[0mtime\u001b[0m\u001b[0;34m.\u001b[0m\u001b[0msleep\u001b[0m\u001b[0;34m(\u001b[0m\u001b[0;36m0.3\u001b[0m\u001b[0;34m)\u001b[0m\u001b[0;34m\u001b[0m\u001b[0;34m\u001b[0m\u001b[0m\n\u001b[0m\u001b[1;32m     86\u001b[0m \u001b[0;34m\u001b[0m\u001b[0m\n\u001b[1;32m     87\u001b[0m     \u001b[0mr\u001b[0m\u001b[0;34m,\u001b[0m \u001b[0mc\u001b[0m \u001b[0;34m=\u001b[0m \u001b[0magent_pos\u001b[0m\u001b[0;34m\u001b[0m\u001b[0;34m\u001b[0m\u001b[0m\n",
            "\u001b[0;31mKeyboardInterrupt\u001b[0m: "
          ]
        }
      ],
      "source": [
        "import matplotlib.pyplot as plt\n",
        "import matplotlib.patches as patches\n",
        "import numpy as np\n",
        "import time\n",
        "from IPython.display import clear_output\n",
        "\n",
        "# Grid size\n",
        "ROWS, COLS = 10, 10\n",
        "\n",
        "# Random dirt generation\n",
        "np.random.seed(42)\n",
        "dirt_grid = (np.random.rand(ROWS, COLS) < 0.2).astype(int)\n",
        "\n",
        "# Agent starting position\n",
        "agent_pos = [5, 5]\n",
        "\n",
        "def is_valid(r, c):\n",
        "    return 0 <= r < ROWS and 0 <= c < COLS\n",
        "\n",
        "# Manhattan distance\n",
        "def manhattan(p1, p2):\n",
        "    return abs(p1[0]-p2[0]) + abs(p1[1]-p2[1])\n",
        "\n",
        "# Compute utility grid\n",
        "def compute_utility():\n",
        "    utility = np.zeros((ROWS, COLS))\n",
        "    for r in range(ROWS):\n",
        "        for c in range(COLS):\n",
        "            if dirt_grid[r, c] == 1:\n",
        "                utility[r, c] = 10  # Max utility for dirt\n",
        "            else:\n",
        "                nearest = find_nearest_dirt_from((r, c))\n",
        "                utility[r, c] = -manhattan((r, c), nearest) if nearest else -100\n",
        "    return utility\n",
        "\n",
        "def find_nearest_dirt_from(start):\n",
        "    from collections import deque\n",
        "    visited = np.zeros((ROWS, COLS), dtype=bool)\n",
        "    queue = deque()\n",
        "    queue.append(start)\n",
        "    visited[start[0], start[1]] = True\n",
        "\n",
        "    while queue:\n",
        "        r, c = queue.popleft()\n",
        "        if dirt_grid[r, c] == 1:\n",
        "            return (r, c)\n",
        "        for dr, dc in [(-1,0),(1,0),(0,-1),(0,1)]:\n",
        "            nr, nc = r + dr, c + dc\n",
        "            if is_valid(nr, nc) and not visited[nr, nc]:\n",
        "                visited[nr, nc] = True\n",
        "                queue.append((nr, nc))\n",
        "    return None\n",
        "\n",
        "def draw_grid():\n",
        "    fig, ax = plt.subplots(figsize=(6,6))\n",
        "    ax.set_xlim(0, COLS)\n",
        "    ax.set_ylim(0, ROWS)\n",
        "    ax.set_xticks(np.arange(0, COLS+1, 1))\n",
        "    ax.set_yticks(np.arange(0, ROWS+1, 1))\n",
        "    ax.set_xticklabels([])\n",
        "    ax.set_yticklabels([])\n",
        "    ax.grid(True)\n",
        "\n",
        "    # Draw dirt\n",
        "    for r in range(ROWS):\n",
        "        for c in range(COLS):\n",
        "            if dirt_grid[r, c] == 1:\n",
        "                rect = patches.Rectangle((c, ROWS - r - 1), 1, 1, facecolor='saddlebrown')\n",
        "                ax.add_patch(rect)\n",
        "\n",
        "    # Draw agent\n",
        "    ar, ac = agent_pos\n",
        "    circ = patches.Circle((ac + 0.5, ROWS - ar - 0.5), 0.3, facecolor='purple')\n",
        "    ax.add_patch(circ)\n",
        "\n",
        "    plt.show()\n",
        "\n",
        "# Simulation\n",
        "steps = 0\n",
        "max_steps = 200\n",
        "\n",
        "while steps < max_steps and np.any(dirt_grid == 1):\n",
        "    clear_output(wait=True)\n",
        "    draw_grid()\n",
        "    time.sleep(0.3)\n",
        "\n",
        "    r, c = agent_pos\n",
        "    best_utility = -float('inf')\n",
        "    best_move = (r, c)  # default: stay\n",
        "\n",
        "    utility_grid = compute_utility()\n",
        "\n",
        "    for dr, dc in [(-1,0), (1,0), (0,-1), (0,1)]:\n",
        "        nr, nc = r + dr, c + dc\n",
        "        if is_valid(nr, nc) and utility_grid[nr, nc] > best_utility:\n",
        "            best_utility = utility_grid[nr, nc]\n",
        "            best_move = (nr, nc)\n",
        "\n",
        "    # Move agent\n",
        "    agent_pos = list(best_move)\n",
        "\n",
        "    # Clean dirt\n",
        "    if dirt_grid[agent_pos[0], agent_pos[1]] == 1:\n",
        "        dirt_grid[agent_pos[0], agent_pos[1]] = 0\n",
        "\n",
        "    steps += 1\n",
        "\n",
        "clear_output(wait=True)\n",
        "draw_grid()\n",
        "print(\"Utility-based agent finished in\", steps, \"steps.\")\n"
      ]
    }
  ]
}