{
  "nbformat": 4,
  "nbformat_minor": 0,
  "metadata": {
    "colab": {
      "provenance": [],
      "authorship_tag": "ABX9TyNKH0PHpsmiT4imDGc10Qp8",
      "include_colab_link": true
    },
    "kernelspec": {
      "name": "python3",
      "display_name": "Python 3"
    },
    "language_info": {
      "name": "python"
    }
  },
  "cells": [
    {
      "cell_type": "markdown",
      "metadata": {
        "id": "view-in-github",
        "colab_type": "text"
      },
      "source": [
        "<a href=\"https://colab.research.google.com/github/kriteshshrestha/ai_lab_vaccume_knn-kriteshshrestha-/blob/main/heuristic.ipynb\" target=\"_parent\"><img src=\"https://colab.research.google.com/assets/colab-badge.svg\" alt=\"Open In Colab\"/></a>"
      ]
    },
    {
      "cell_type": "code",
      "execution_count": null,
      "metadata": {
        "id": "MbwgC1dVxLQL"
      },
      "outputs": [],
      "source": [
        "from collections import deque\n",
        "\n",
        "# Goal state\n",
        "GOAL_STATE = [[1,2,3], [4,5,6], [7,8,0]]\n",
        "\n",
        "# Moves: up, down, left, right\n",
        "MOVES = {'up': (-1,0), 'down': (1,0), 'left': (0,-1), 'right': (0,1)}\n",
        "\n",
        "# Find position of tile in goal state\n",
        "def goal_pos(tile):\n",
        "    for i in range(3):\n",
        "        for j in range(3):\n",
        "            if GOAL_STATE[i][j] == tile:\n",
        "                return (i,j)\n",
        "\n",
        "# Compute Manhattan distance heuristic\n",
        "def manhattan(state):\n",
        "    dist = 0\n",
        "    for i in range(3):\n",
        "        for j in range(3):\n",
        "            tile = state[i][j]\n",
        "            if tile != 0:\n",
        "                goal_i, goal_j = goal_pos(tile)\n",
        "                dist += abs(i - goal_i) + abs(j - goal_j)\n",
        "    return dist\n",
        "\n",
        "# Convert state to tuple for hashing\n",
        "def state_to_tuple(state):\n",
        "    return tuple(tuple(row) for row in state)\n",
        "\n",
        "# Find blank tile position\n",
        "def find_blank(state):\n",
        "    for i in range(3):\n",
        "        for j in range(3):\n",
        "            if state[i][j] == 0:\n",
        "                return (i,j)\n",
        "\n",
        "# BFS search\n",
        "def bfs(initial_state):\n",
        "    queue = deque()\n",
        "    queue.append((initial_state, []))  # state and path\n",
        "    visited = set()\n",
        "\n",
        "    while queue:\n",
        "        current_state, path = queue.popleft()\n",
        "\n",
        "        print(\"Current state:\")\n",
        "        for row in current_state:\n",
        "            print(row)\n",
        "        h = manhattan(current_state)\n",
        "        print(\"Heuristic (Manhattan distance):\", h)\n",
        "        print(\"---\")\n",
        "\n",
        "        if current_state == GOAL_STATE:\n",
        "            return path\n",
        "\n",
        "        visited.add(state_to_tuple(current_state))\n",
        "\n",
        "        blank_i, blank_j = find_blank(current_state)\n",
        "\n",
        "        for move, (di, dj) in MOVES.items():\n",
        "            new_i, new_j = blank_i + di, blank_j + dj\n",
        "            if 0 <= new_i < 3 and 0 <= new_j < 3:\n",
        "                # Create new state\n",
        "                new_state = [row[:] for row in current_state]\n",
        "                new_state[blank_i][blank_j], new_state[new_i][new_j] = new_state[new_i][new_j], new_state[blank_i][blank_j]\n",
        "                state_tuple = state_to_tuple(new_state)\n",
        "                if state_tuple not in visited:\n",
        "                    queue.append((new_state, path + [move]))\n",
        "    return None\n",
        "\n",
        "if __name__ == \"__main__\":\n",
        "    # Example initial state\n",
        "    initial_state = [[1,2,3], [4,0,5], [7,8,6]]\n",
        "\n",
        "    print(\"Initial State:\")\n",
        "    for row in initial_state:\n",
        "        print(row)\n",
        "    print(\"\\nStarting BFS search...\\n\")\n",
        "\n",
        "    solution = bfs(initial_state)\n",
        "\n",
        "    if solution:\n",
        "        print(\"\\nOptimal solution path (sequence of moves):\")\n",
        "        print(solution)\n",
        "        print(\"Number of moves:\", len(solution))\n",
        "    else:\n",
        "        print(\"No solution found.\")\n"
      ]
    }
  ]
}