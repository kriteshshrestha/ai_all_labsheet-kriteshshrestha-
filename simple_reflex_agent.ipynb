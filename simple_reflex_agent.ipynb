{
  "nbformat": 4,
  "nbformat_minor": 0,
  "metadata": {
    "colab": {
      "provenance": [],
      "authorship_tag": "ABX9TyMJmF1VFLC2sA6cV1YuGWwJ",
      "include_colab_link": true
    },
    "kernelspec": {
      "name": "python3",
      "display_name": "Python 3"
    },
    "language_info": {
      "name": "python"
    }
  },
  "cells": [
    {
      "cell_type": "markdown",
      "metadata": {
        "id": "view-in-github",
        "colab_type": "text"
      },
      "source": [
        "<a href=\"https://colab.research.google.com/github/kriteshshrestha/ai_lab_vaccume_knn-kriteshshrestha-/blob/main/simple_reflex_agent.ipynb\" target=\"_parent\"><img src=\"https://colab.research.google.com/assets/colab-badge.svg\" alt=\"Open In Colab\"/></a>"
      ]
    },
    {
      "cell_type": "code",
      "execution_count": 1,
      "metadata": {
        "colab": {
          "base_uri": "https://localhost:8080/",
          "height": 697
        },
        "id": "x08EplwNfReg",
        "outputId": "071a7838-e030-4b4e-8df7-0c6289038c70"
      },
      "outputs": [
        {
          "output_type": "display_data",
          "data": {
            "text/plain": [
              "<Figure size 600x600 with 1 Axes>"
            ],
            "image/png": "[encoded data removed]"
          },
          "metadata": {}
        },
        {
          "output_type": "error",
          "ename": "KeyboardInterrupt",
          "evalue": "",
          "traceback": [
            "\u001b[0;31m---------------------------------------------------------------------------\u001b[0m",
            "\u001b[0;31mKeyboardInterrupt\u001b[0m                         Traceback (most recent call last)",
            "\u001b[0;32m/tmp/ipython-input-1-3724016401.py\u001b[0m in \u001b[0;36m<cell line: 0>\u001b[0;34m()\u001b[0m\n\u001b[1;32m     51\u001b[0m     \u001b[0mclear_output\u001b[0m\u001b[0;34m(\u001b[0m\u001b[0mwait\u001b[0m\u001b[0;34m=\u001b[0m\u001b[0;32mTrue\u001b[0m\u001b[0;34m)\u001b[0m\u001b[0;34m\u001b[0m\u001b[0;34m\u001b[0m\u001b[0m\n\u001b[1;32m     52\u001b[0m     \u001b[0mdraw_grid\u001b[0m\u001b[0;34m(\u001b[0m\u001b[0;34m)\u001b[0m\u001b[0;34m\u001b[0m\u001b[0;34m\u001b[0m\u001b[0m\n\u001b[0;32m---> 53\u001b[0;31m     \u001b[0mtime\u001b[0m\u001b[0;34m.\u001b[0m\u001b[0msleep\u001b[0m\u001b[0;34m(\u001b[0m\u001b[0;36m0.3\u001b[0m\u001b[0;34m)\u001b[0m\u001b[0;34m\u001b[0m\u001b[0;34m\u001b[0m\u001b[0m\n\u001b[0m\u001b[1;32m     54\u001b[0m \u001b[0;34m\u001b[0m\u001b[0m\n\u001b[1;32m     55\u001b[0m     \u001b[0mr\u001b[0m\u001b[0;34m,\u001b[0m \u001b[0mc\u001b[0m \u001b[0;34m=\u001b[0m \u001b[0magent_pos\u001b[0m\u001b[0;34m\u001b[0m\u001b[0;34m\u001b[0m\u001b[0m\n",
            "\u001b[0;31mKeyboardInterrupt\u001b[0m: "
          ]
        }
      ],
      "source": [
        "import matplotlib.pyplot as plt\n",
        "import matplotlib.patches as patches\n",
        "import numpy as np\n",
        "import time\n",
        "from IPython.display import clear_output\n",
        "import random\n",
        "\n",
        "# Grid size\n",
        "ROWS, COLS = 10, 10\n",
        "\n",
        "# Initialize dirt\n",
        "np.random.seed(42)\n",
        "dirt_grid = (np.random.rand(ROWS, COLS) < 0.2).astype(int)\n",
        "\n",
        "# Starting position of agent\n",
        "agent_pos = [5, 5]\n",
        "\n",
        "# Helper functions\n",
        "def is_valid(r, c):\n",
        "    return 0 <= r < ROWS and 0 <= c < COLS\n",
        "\n",
        "def draw_grid():\n",
        "    fig, ax = plt.subplots(figsize=(6, 6))\n",
        "    ax.set_xlim(0, COLS)\n",
        "    ax.set_ylim(0, ROWS)\n",
        "    ax.set_xticks(np.arange(0, COLS + 1, 1))\n",
        "    ax.set_yticks(np.arange(0, ROWS + 1, 1))\n",
        "    ax.set_xticklabels([])\n",
        "    ax.set_yticklabels([])\n",
        "    ax.grid(True)\n",
        "\n",
        "    # Draw dirt\n",
        "    for r in range(ROWS):\n",
        "        for c in range(COLS):\n",
        "            if dirt_grid[r, c] == 1:\n",
        "                rect = patches.Rectangle((c, ROWS - r - 1), 1, 1, facecolor='brown')\n",
        "                ax.add_patch(rect)\n",
        "\n",
        "    # Draw agent\n",
        "    r, c = agent_pos\n",
        "    circ = patches.Circle((c + 0.5, ROWS - r - 0.5), 0.3, facecolor='green')\n",
        "    ax.add_patch(circ)\n",
        "\n",
        "    plt.show()\n",
        "\n",
        "# Simulation loop\n",
        "steps = 0\n",
        "max_steps = 150\n",
        "\n",
        "while steps < max_steps and np.any(dirt_grid == 1):\n",
        "    clear_output(wait=True)\n",
        "    draw_grid()\n",
        "    time.sleep(0.3)\n",
        "\n",
        "    r, c = agent_pos\n",
        "    moved = False\n",
        "\n",
        "    # Reflex Rule: If dirt in adjacent cell, move there\n",
        "    for dr, dc in [(-1,0), (1,0), (0,-1), (0,1)]:\n",
        "        nr, nc = r + dr, c + dc\n",
        "        if is_valid(nr, nc) and dirt_grid[nr, nc] == 1:\n",
        "            agent_pos = [nr, nc]\n",
        "            dirt_grid[nr, nc] = 0\n",
        "            moved = True\n",
        "            break\n",
        "\n",
        "    # If no dirt nearby, move randomly\n",
        "    if not moved:\n",
        "        directions = [(-1,0), (1,0), (0,-1), (0,1)]\n",
        "        random.shuffle(directions)\n",
        "        for dr, dc in directions:\n",
        "            nr, nc = r + dr, c + dc\n",
        "            if is_valid(nr, nc):\n",
        "                agent_pos = [nr, nc]\n",
        "                break\n",
        "\n",
        "    # Clean current cell if dirty (optional reflex)\n",
        "    if dirt_grid[agent_pos[0], agent_pos[1]] == 1:\n",
        "        dirt_grid[agent_pos[0], agent_pos[1]] = 0\n",
        "\n",
        "    steps += 1\n",
        "\n",
        "clear_output(wait=True)\n",
        "draw_grid()\n",
        "print(\"Simple Reflex Agent finished in\", steps, \"steps.\")\n"
      ]
    }
  ]
}